{
 "cells": [
  {
   "cell_type": "markdown",
   "metadata": {},
   "source": [
    "## 栈与递归"
   ]
  },
  {
   "cell_type": "markdown",
   "metadata": {},
   "source": [
    "### 根据要求完成车辆重排的程序代码"
   ]
  },
  {
   "cell_type": "markdown",
   "metadata": {},
   "source": [
    "假设一列货运列车共有n节车厢，每节车厢将停放在不同的车站。假定n个车站的编号分别为1至n，货运列车按照第n站至第1站的次序经过这些车站。车厢的编号与它们的目的地相同。\n",
    "\n",
    "为了便于从列车上卸掉相应的车厢，必须重新排列车厢，使各车厢从前至后按编号1至n的次序排列。当所有的车厢都按照这种次序排列时，在每个车站只需卸掉最后一节车厢即可。\n",
    "\n",
    "我们在一个转轨站里完成车厢的重排工作，在转轨站中有一个入轨、一个出轨和k个缓冲铁轨（位于入轨和出轨之间）。图（a）给出一个转轨站，其中有k个（k=3）缓冲铁轨H1，H2 和H3。\n",
    "\n",
    "开始时，n节车厢的货车从入轨处进入转轨站，转轨结束时各车厢从右到左按照编号1至n的次序离开转轨站（通过出轨处）。\n",
    "\n",
    "在图（a）中，n=9，车厢从后至前的初始次序为5，8，1，7，4，2，9，6，3。图（b）给出了按所要求的次序重新排列后的结果。\n",
    "\n",
    "编写算法实现火车车厢的重排，模拟具有n节车厢的火车“入轨”和“出轨”过程。"
   ]
  },
  {
   "cell_type": "code",
   "execution_count": 98,
   "metadata": {},
   "outputs": [
    {
     "name": "stdout",
     "output_type": "stream",
     "text": [
      "移动车厢：3从入轨到缓冲轨0\n",
      "移动车厢：6从入轨到缓冲轨1\n",
      "移动车厢：9从入轨到缓冲轨2\n",
      "移动车厢：2从入轨到缓冲轨0\n",
      "移动车厢：4从入轨到缓冲轨1\n",
      "移动车厢：7从入轨到缓冲轨2\n",
      "移动车厢：1从入轨到出轨\n",
      "移动车厢：2从0号缓冲轨出轨\n",
      "移动车厢：3从0号缓冲轨出轨\n",
      "移动车厢：4从1号缓冲轨出轨\n",
      "移动车厢：8从入轨到缓冲轨0\n",
      "移动车厢：5从入轨到出轨\n",
      "移动车厢：6从1号缓冲轨出轨\n",
      "移动车厢：7从2号缓冲轨出轨\n",
      "移动车厢：8从0号缓冲轨出轨\n",
      "移动车厢：9从2号缓冲轨出轨\n"
     ]
    }
   ],
   "source": [
    "class Stack(object):\n",
    "    def __init__(self):\n",
    "        self.stack = []\n",
    "        \n",
    "    def push(self, value):\n",
    "        self.stack.append(value)\n",
    "        \n",
    "    def pop(self):\n",
    "        if self.stack:\n",
    "            self.stack.pop()\n",
    "        else:\n",
    "            raise LookupError('栈为空')\n",
    "            \n",
    "    def isEmpty(self):\n",
    "        return len(self.stack) == 0\n",
    "    \n",
    "    def top(self):\n",
    "        return self.stack[-1]\n",
    "\n",
    "     \n",
    "def bufferout(buffers, k):\n",
    "    global MAX, minbuffer, minbufferidx\n",
    "    if buffers[minbufferidx].isEmpty() == True:\n",
    "        return\n",
    "    buffers[minbufferidx].pop()\n",
    "    print(\"移动车厢：{}从{}号缓冲轨出轨\".format( minbuffer, minbufferidx))\n",
    "    minbuffer = MAX + 1\n",
    "    minbufferidx = -1\n",
    "    for i in range(k):\n",
    "        if buffers[i].isEmpty() == False and buffers[i].top() < minbuffer:\n",
    "            minbuffer = buffers[i].top()\n",
    "            minbufferidx = i\n",
    "\n",
    "def bufferin(buffers, num, k):\n",
    "    global MAX, minbuffer, minbufferidx\n",
    "    bestbuffer = -1\n",
    "    besttop = MAX\n",
    "    for i in range(k):\n",
    "        if buffers[i].isEmpty() == False:\n",
    "            x = buffers[i].top()\n",
    "            if (num<x and x<=besttop):\n",
    "                besttop = x\n",
    "                bestbuffer = i\n",
    "        else:\n",
    "            if bestbuffer == -1:\n",
    "                bestbuffer = i\n",
    "                break\n",
    "    if bestbuffer == -1:\n",
    "        return False\n",
    "    buffers[bestbuffer].push(num)\n",
    "    print(\"移动车厢：{}从入轨到缓冲轨{}\".format(num, bestbuffer))\n",
    "    if (num <= minbuffer):\n",
    "        minbuffer = num\n",
    "        minbufferidx = bestbuffer\n",
    "    return True\n",
    "\n",
    "def railroad(pin, k): # pin is a list\n",
    "    global MAX, minbuffer, minbufferidx\n",
    "    buffers = []\n",
    "    MAX = max(pin)\n",
    "    # 初始化缓冲轨道\n",
    "    for _ in range(k):\n",
    "        stack = Stack()\n",
    "        buffers.append(stack)\n",
    "    nowout = 1\n",
    "    minbuffer, minbufferidx = MAX, -1\n",
    "    for i in range(len(pin)):\n",
    "        if pin[i] == nowout:\n",
    "            print(\"移动车厢：{}从入轨到出轨\".format(pin[i]))\n",
    "            nowout += 1\n",
    "            while (minbuffer == nowout):\n",
    "                bufferout(buffers, k)\n",
    "                nowout += 1\n",
    "        else:\n",
    "            if (bufferin(buffers, pin[i], k) == False):\n",
    "                return False\n",
    "    return True\n",
    "            \n",
    "if __name__ == \"__main__\":\n",
    "    pin = [3, 6, 9, 2, 4, 7, 1, 8, 5]\n",
    "    # pin = [6, 2, 3, 9, 8, 5, 1, 7, 4]\n",
    "    result = railroad(pin, 3)\n",
    "    if result == False:\n",
    "        print(\"需要更多缓冲轨道\")\n",
    "    "
   ]
  },
  {
   "cell_type": "markdown",
   "metadata": {},
   "source": [
    "理解本题，首先是用栈的方式模拟缓冲区达到先进先出的效果（实际上刚开始理解成队列），所以首先用代码实现栈的类型。需要实现进栈，出栈，是否为空栈， 展现栈顶元素功能\n",
    "\n",
    "第二，要实现列车算法部分，此处参考了https://github.com/datawhalechina/team-learning/blob/master/数据结构与算法（上）/3_栈与递归.md 大体思路如下：\n",
    "\n",
    "我们知道输出的值从1开始每次不断加1，设置nowout值在输出后就加1，以此控制输出。\n",
    "\n",
    "此处开始分情况：\n",
    "\n",
    "当输入列表的值等于nowout值时直接输出即可，nowout++，同时判断缓冲栈中栈顶最小的值是否有等于nowout的，有的话从缓冲栈输出，直到缓冲栈没有符合\n",
    "\n",
    "如果不是，则进缓冲栈\n",
    "\n",
    "进缓冲栈的过程中，考虑缓冲栈内最小的元素，保证栈顶元素最小（这里如果出现缓冲栈数目不够的情况则会返回False，要求增加缓冲栈数目），同时记录最小元素，已便输出\n",
    "\n",
    "输出缓冲栈的过程中，在输出后，重新判断栈内最小元素，以便下次输出"
   ]
  },
  {
   "cell_type": "code",
   "execution_count": null,
   "metadata": {},
   "outputs": [],
   "source": []
  }
 ],
 "metadata": {
  "kernelspec": {
   "display_name": "Python 3",
   "language": "python",
   "name": "python3"
  },
  "language_info": {
   "codemirror_mode": {
    "name": "ipython",
    "version": 3
   },
   "file_extension": ".py",
   "mimetype": "text/x-python",
   "name": "python",
   "nbconvert_exporter": "python",
   "pygments_lexer": "ipython3",
   "version": "3.7.3"
  }
 },
 "nbformat": 4,
 "nbformat_minor": 2
}
