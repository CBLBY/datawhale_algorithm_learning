{
 "cells": [
  {
   "cell_type": "markdown",
   "metadata": {},
   "source": [
    "## Task 01: 数组"
   ]
  },
  {
   "cell_type": "markdown",
   "metadata": {},
   "source": [
    "### 动态数组\n",
    "### 编写一段代码，要求输入一个整数N，用动态数组A来存放2~N之间所有5或7的倍数，输出该数组。\n",
    "### 示例"
   ]
  },
  {
   "cell_type": "markdown",
   "metadata": {},
   "source": [
    "输入：\n",
    "N = 100 \n",
    "\n",
    "输出：\n",
    "5 7 10 14 15 20 21 25 28 30 35 40 42 45 49 50 55 56 60 63 65 70 75 77 80 84 85 90 91 95 98 100"
   ]
  },
  {
   "cell_type": "code",
   "execution_count": 2,
   "metadata": {},
   "outputs": [],
   "source": [
    "def solution(n):\n",
    "    result = []\n",
    "    for i in range(2, n+1):\n",
    "        if i%5==0 or i%7==0:\n",
    "            result.append(i)\n",
    "    return result"
   ]
  },
  {
   "cell_type": "code",
   "execution_count": 3,
   "metadata": {},
   "outputs": [
    {
     "data": {
      "text/plain": [
       "[5,\n",
       " 7,\n",
       " 10,\n",
       " 14,\n",
       " 15,\n",
       " 20,\n",
       " 21,\n",
       " 25,\n",
       " 28,\n",
       " 30,\n",
       " 35,\n",
       " 40,\n",
       " 42,\n",
       " 45,\n",
       " 49,\n",
       " 50,\n",
       " 55,\n",
       " 56,\n",
       " 60,\n",
       " 63,\n",
       " 65,\n",
       " 70,\n",
       " 75,\n",
       " 77,\n",
       " 80,\n",
       " 84,\n",
       " 85,\n",
       " 90,\n",
       " 91,\n",
       " 95,\n",
       " 98,\n",
       " 100]"
      ]
     },
     "execution_count": 3,
     "metadata": {},
     "output_type": "execute_result"
    }
   ],
   "source": [
    "result = solution(100)\n",
    "result"
   ]
  },
  {
   "cell_type": "markdown",
   "metadata": {},
   "source": [
    "### 托普利茨矩阵问题\n",
    "### 如果一个矩阵的每一方向由左上到右下的对角线上具有相同元素，那么这个矩阵是托普利茨矩阵。\n",
    "### 给定一个M x N的矩阵，当且仅当它是托普利茨矩阵时返回True。"
   ]
  },
  {
   "cell_type": "markdown",
   "metadata": {},
   "source": [
    "输入:\n",
    "matrix = [\n",
    "  [1,2,3,4],\n",
    "  [5,1,2,3],\n",
    "  [9,5,1,2]\n",
    "]\n",
    "\n",
    "输出: True"
   ]
  },
  {
   "cell_type": "markdown",
   "metadata": {},
   "source": [
    "### 在上述矩阵中, 其对角线为: \"[9]\", \"[5, 5]\", \"[1, 1, 1]\", \"[2, 2, 2]\", \"[3, 3]\", \"[4]\"。 各条对角线上的所有元素均相同, 因此答案是True。"
   ]
  },
  {
   "cell_type": "code",
   "execution_count": 17,
   "metadata": {},
   "outputs": [
    {
     "data": {
      "text/plain": [
       "True"
      ]
     },
     "execution_count": 17,
     "metadata": {},
     "output_type": "execute_result"
    }
   ],
   "source": [
    "matrix = [ [1,2,3,4], [5,1,2,3], [9,5,1,2] ]\n",
    "\n",
    "def istoplici(matrix):\n",
    "    for r in range(len(matrix)-1):\n",
    "        for c in range(len(matrix[0])-1):\n",
    "            if matrix[r+1][c+1] and matrix[r][c] != matrix[r+1][c+1]:\n",
    "                return False\n",
    "    return True\n",
    "\n",
    "istoplici(matrix)\n",
    "       "
   ]
  },
  {
   "cell_type": "markdown",
   "metadata": {},
   "source": [
    "### 三数之和"
   ]
  },
  {
   "cell_type": "markdown",
   "metadata": {},
   "source": [
    "### 给定一个包含 n 个整数的数组nums，判断nums中是否存在三个元素a，b，c，使得a + b + c = 0？找出所有满足条件且不重复的三元组。\n",
    "### 注意：答案中不可以包含重复的三元组。"
   ]
  },
  {
   "cell_type": "markdown",
   "metadata": {},
   "source": [
    "给定数组 nums = [-1, 0, 1, 2, -1, -4]，\n",
    "\n",
    "满足要求的三元组集合为：\n",
    "[\n",
    "  [-1, 0, 1],\n",
    "  [-1, -1, 2]\n",
    "]"
   ]
  },
  {
   "cell_type": "code",
   "execution_count": 19,
   "metadata": {},
   "outputs": [
    {
     "data": {
      "text/plain": [
       "[[-1, -1, 2], [-1, 0, 1]]"
      ]
     },
     "execution_count": 19,
     "metadata": {},
     "output_type": "execute_result"
    }
   ],
   "source": [
    "nums = [-1, 0, 1, 2, -1, -4]\n",
    "\n",
    "def threesum(nums):\n",
    "    n = len(nums)\n",
    "    if (not nums or n<3): # 不满足数组和长度小于3的先排除\n",
    "        return []\n",
    "    nums.sort()\n",
    "    result = []\n",
    "    for i in range(n):\n",
    "        if nums[i]>0: # 若排序好后第一个就大于零，那么三个之和必大于零\n",
    "            return result\n",
    "        if (n>0 and nums[i]==nums[i-1]): # 跳过重复项\n",
    "            continue\n",
    "        L = i+ 1\n",
    "        R = n - 1\n",
    "        while(L<R):\n",
    "            if(nums[i]+nums[L]+nums[R] == 0):\n",
    "                result.append([nums[i], nums[L], nums[R]])\n",
    "                while L<R and nums[L]==nums[L+1]: # 左指针排除重复项\n",
    "                    L = L + 1\n",
    "                while L<R and nums[R]==nums[R-1]: # 右指针排除重复项\n",
    "                    R = R - 1\n",
    "                # 下一个指针\n",
    "                L , R = L+1, R-1\n",
    "            elif(nums[i]+nums[L]+nums[R] > 0):# 值大于零，和值太大，R左移\n",
    "                R = R - 1\n",
    "            else: # 值小于零，和值太小，L右移\n",
    "                L = L + 1\n",
    "    return result\n",
    "\n",
    "threesum(nums)"
   ]
  },
  {
   "cell_type": "code",
   "execution_count": null,
   "metadata": {},
   "outputs": [],
   "source": []
  }
 ],
 "metadata": {
  "kernelspec": {
   "display_name": "Python 3",
   "language": "python",
   "name": "python3"
  },
  "language_info": {
   "codemirror_mode": {
    "name": "ipython",
    "version": 3
   },
   "file_extension": ".py",
   "mimetype": "text/x-python",
   "name": "python",
   "nbconvert_exporter": "python",
   "pygments_lexer": "ipython3",
   "version": "3.7.3"
  }
 },
 "nbformat": 4,
 "nbformat_minor": 2
}
