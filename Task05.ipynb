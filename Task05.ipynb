{
 "cells": [
  {
   "cell_type": "markdown",
   "metadata": {},
   "source": [
    "## 串的定义与操作"
   ]
  },
  {
   "cell_type": "markdown",
   "metadata": {},
   "source": [
    "### 串的相关定义"
   ]
  },
  {
   "cell_type": "markdown",
   "metadata": {},
   "source": [
    "串（string）是由零个或多个字符组成的有限序列，又名字符串，记为S=”a0a1...an”。\n",
    "\n",
    "串中包含字符的个数称为串的长度。\n",
    "\n",
    "长度为零的串称为空串（null string）。直接用双引号””表示，在C#中也可用string.Empty来表示。\n",
    "\n",
    "空白串：由一个或多个空格组成的串。\n",
    "\n",
    "子串与主串：串中任意连续字符组成的子序列，称为该串的子串。相应的包含子串的串称为主串，即子串是主串的一部分。\n",
    "\n",
    "子串在主串中的位置：子串在主串中第一次出现时，子串第一个字符在主串中的序号。"
   ]
  },
  {
   "cell_type": "markdown",
   "metadata": {},
   "source": [
    "例如：\n",
    "\n",
    "A=“this is a string”; \n",
    "\n",
    "B=“is”;\n",
    "\n",
    "B在A中的位置为2。"
   ]
  },
  {
   "cell_type": "markdown",
   "metadata": {},
   "source": [
    "串相等：长度相等且对应位字符相同。"
   ]
  },
  {
   "cell_type": "markdown",
   "metadata": {},
   "source": [
    "### 串的操作"
   ]
  },
  {
   "cell_type": "markdown",
   "metadata": {},
   "source": [
    "串的逻辑结构和线性表很相似，不同之处在于串针对的是字符集，也就是串中的元素都是字符。因此，对于串的基本操作与线性表是有很大差别的。线性表更关注的是单个元素的操作，比如查找一个元素，插入或删除一个元素，但串中更多的是关注它子串的应用问题，如查找子串位置，得到指定位置子串、替换子串等操作。\n",
    "\n",
    "关于串的基本操作如下：\n",
    "\n",
    "（1）获取串的长度\n",
    "\n",
    "（2）获取或设置指定索引处的字符\n",
    "\n",
    "（3）在指定位置插入子串\n",
    "\n",
    "（4）在指定位置移除给定长度的子串\n",
    "\n",
    "（5）在指定位置取子串\n",
    "\n",
    "（6）当前串的拷贝\n",
    "\n",
    "（7）串连接\n",
    "\n",
    "（8）串的匹配\n",
    "\n",
    "比如C#中，字符串操作还有ToLower转小写、ToUpper转大写、IndexOf从左查找子串位置、LastIndexOf从右查找子串位置、Trim去除两边空格等比较方便的操作，它们其实就是前面这些基本操作的扩展函数。"
   ]
  },
  {
   "cell_type": "markdown",
   "metadata": {},
   "source": [
    "## 串的存储与实现"
   ]
  },
  {
   "cell_type": "markdown",
   "metadata": {},
   "source": [
    "串的存储结构与线性表相同，分为两种：\n",
    "\n",
    "顺序存储：char类型的数组。由于数组是定长的，就存在一个预定义的最大串长度，它规定在串值后面加一个不计入串长度的结束符，比如’\\0’来表示串值的终结。\n",
    "\n",
    "链式存储：SlinkList<char> （浪费存储空间）"
   ]
  },
  {
   "cell_type": "markdown",
   "metadata": {},
   "source": [
    "## 练习部分"
   ]
  },
  {
   "cell_type": "markdown",
   "metadata": {},
   "source": [
    "### 1. 无重复字符的最长子串"
   ]
  },
  {
   "cell_type": "markdown",
   "metadata": {},
   "source": [
    "https://leetcode-cn.com/problems/longest-substring-without-repeating-characters/\n",
    "\n",
    "给定一个字符串，请你找出其中不含有重复字符的最长子串的长度。\n",
    "\n",
    "示例1\n",
    "\n",
    "输入: \"abcabcbb\"\n",
    "\n",
    "输出: 3 \n",
    "\n",
    "解释: 因为无重复字符的最长子串是 \"abc\"，所以其长度为 3。\n",
    "\n",
    "\n",
    "示例2\n",
    "\n",
    "输入: \"bbbbb\"\n",
    "\n",
    "输出: 1\n",
    "\n",
    "解释: 因为无重复字符的最长子串是 \"b\"，所以其长度为 1。\n",
    "\n",
    "\n",
    "示例3\n",
    "\n",
    "输入: \"pwwkew\"\n",
    "\n",
    "输出: 3\n",
    "\n",
    "解释: 因为无重复字符的最长子串是 \"wke\"，所以其长度为 3。\n",
    "\n",
    "请注意，你的答案必须是 子串 的长度，\"pwke\" 是一个子序列，不是子串。"
   ]
  },
  {
   "cell_type": "code",
   "execution_count": 2,
   "metadata": {},
   "outputs": [],
   "source": [
    "class Solution:\n",
    "    def lengthOfLongestSubstring(self, s: str) -> int:\n",
    "        if s == None or s == \"\":\n",
    "            return 0\n",
    "        left = 0\n",
    "        strlen = len(s)\n",
    "        lookup = set()\n",
    "        curlen, maxlen = 0, 0\n",
    "        for i in range(strlen):\n",
    "            curlen += 1\n",
    "            while s[i] in lookup:\n",
    "                lookup.remove(s[left])\n",
    "                left += 1\n",
    "                curlen -= 1\n",
    "            lookup.add(s[i])\n",
    "            if curlen > maxlen:\n",
    "                maxlen = curlen\n",
    "        return maxlen"
   ]
  },
  {
   "cell_type": "markdown",
   "metadata": {},
   "source": [
    "### 2. 串联所有单词的子串"
   ]
  },
  {
   "cell_type": "markdown",
   "metadata": {},
   "source": [
    "https://leetcode-cn.com/problems/substring-with-concatenation-of-all-words/\n",
    "\n",
    "给定一个字符串s和一些长度相同的单词 words。找出 s 中恰好可以由 words 中所有单词串联形成的子串的起始位置。\n",
    "\n",
    "注意子串要与 words 中的单词完全匹配，中间不能有其他字符，但不需要考虑 words 中单词串联的顺序。\n",
    "\n",
    "示例1\n",
    "\n",
    "输入：\n",
    "  s = \"barfoothefoobarman\",\n",
    "  words = [\"foo\",\"bar\"]\n",
    "  \n",
    "输出：[0,9]\n",
    "\n",
    "解释：\n",
    "从索引 0 和 9 开始的子串分别是 \"barfoo\" 和 \"foobar\" 。输出的顺序不重要, [9,0] 也是有效答案。\n",
    "\n",
    "示例2\n",
    "\n",
    "输入：\n",
    "  s = \"wordgoodgoodgoodbestword\",\n",
    "  words = [\"word\",\"good\",\"best\",\"word\"]\n",
    "  \n",
    "输出：[]"
   ]
  },
  {
   "cell_type": "code",
   "execution_count": 4,
   "metadata": {},
   "outputs": [],
   "source": [
    "class Solution:\n",
    "    def findSubstring(self, sr, words):\n",
    "        from collections import Counter\n",
    "        if not s or not words:\n",
    "            return []\n",
    "        a_word_len = len(words[0])\n",
    "        words_num = len(words)\n",
    "        hashmap = Counter(words)\n",
    "        str_len = len(s)\n",
    "        res = []\n",
    "        windows = a_word_len * words_num\n",
    "        left = 0\n",
    "        while (left+windows) <= str_len:\n",
    "            tmp = []\n",
    "            i = left\n",
    "            for _ in range(words_num):\n",
    "                tmp.append(s[i:i+a_word_len])\n",
    "                i = i + a_word_len\n",
    "            tmp = Counter(tmp)\n",
    "            if tmp == hashmap:\n",
    "                res.append(left)\n",
    "                left += 1\n",
    "            else:\n",
    "                left += 1\n",
    "        return res"
   ]
  },
  {
   "cell_type": "markdown",
   "metadata": {},
   "source": [
    "### 3. 替换子串得到平衡字符串（本题不太理解）"
   ]
  },
  {
   "cell_type": "markdown",
   "metadata": {},
   "source": [
    "https://leetcode-cn.com/problems/replace-the-substring-for-balanced-string/\n",
    "\n",
    "有一个只含有'Q', 'W', 'E','R'四种字符，且长度为 n的字符串。假如在该字符串中，这四个字符都恰好出现n/4次，那么它就是一个「平衡字符串」。\n",
    "\n",
    "给你一个这样的字符串 s，请通过「替换一个子串」的方式，使原字符串 s变成一个「平衡字符串」。你可以用和「待替换子串」长度相同的任何其他字符串来完成替换。\n",
    "\n",
    "请返回待替换子串的最小可能长度。\n",
    "\n",
    "如果原字符串自身就是一个平衡字符串，则返回 0。\n",
    "\n",
    "示例1：\n",
    "\n",
    "输入：s = \"QWER\"\n",
    "\n",
    "输出：0\n",
    "\n",
    "解释：s 已经是平衡的了。\n",
    "\n",
    "示例2：\n",
    "\n",
    "输入：s = \"QQWE\"\n",
    "\n",
    "输出：1\n",
    "\n",
    "解释：我们需要把一个 'Q' 替换成 'R'，这样得到的 \"RQWE\" (或 \"QRWE\") 是平衡的。\n",
    "\n",
    "示例3：\n",
    "\n",
    "输入：s = \"QQQW\"\n",
    "\n",
    "输出：2\n",
    "\n",
    "解释：我们可以把前面的 \"QQ\" 替换成 \"ER\"。 \n",
    "\n",
    "示例4：\n",
    "\n",
    "输入：s = \"QQQQ\"\n",
    "\n",
    "输出：3\n",
    "\n",
    "解释：我们可以替换后 3 个 'Q'，使 s = \"QWER\"。"
   ]
  },
  {
   "cell_type": "code",
   "execution_count": 5,
   "metadata": {},
   "outputs": [],
   "source": [
    "# 此题不会做，复制了https://leetcode-cn.com/problems/replace-the-substring-for-balanced-string/solution/python3-hua-dong-chuang-kou-zhu-shi-wan-zheng-by-j/的代码过来\n",
    "class Solution:\n",
    "    def balancedString(self, s: str) -> int:\n",
    "        n = len(s)\n",
    "        average = n //4\n",
    "        import collections\n",
    "        counter = collections.Counter(s)\n",
    "        saveCounter = collections.Counter()\n",
    "        #所有超过1/4的都是需要转换的 集中\n",
    "        for key,val in counter.items():\n",
    "            if val>average:\n",
    "                saveCounter[key] = val\n",
    "        if not saveCounter:\n",
    "            return 0\n",
    "\n",
    "        l = r = 0\n",
    "        count = float(\"inf\")\n",
    "        for r in range(n):\n",
    "        #每一个如果都要需要转化的过程中，则滑动窗口需要包含，直到滑动窗口足够大，saveCounter包含的元素对应的次数都要小于等于average\n",
    "            if s[r] in saveCounter:\n",
    "                saveCounter[s[r]] -= 1\n",
    "            while l<=r:\n",
    "                include = True\n",
    "                for ch in 'QWER':\n",
    "                    if saveCounter[ch] > average:\n",
    "                        include = False\n",
    "                        break\n",
    "                if include:\n",
    "                    #如果滑动窗口已经包含了 那么接下来我们将左边右移，需要将s[l] 次数++\n",
    "                    count = min(count,r-l+1)\n",
    "                    saveCounter[s[l]] += 1\n",
    "                    l += 1\n",
    "                else:\n",
    "                    break\n",
    "        return count"
   ]
  },
  {
   "cell_type": "code",
   "execution_count": null,
   "metadata": {},
   "outputs": [],
   "source": []
  }
 ],
 "metadata": {
  "kernelspec": {
   "display_name": "Python 3",
   "language": "python",
   "name": "python3"
  },
  "language_info": {
   "codemirror_mode": {
    "name": "ipython",
    "version": 3
   },
   "file_extension": ".py",
   "mimetype": "text/x-python",
   "name": "python",
   "nbconvert_exporter": "python",
   "pygments_lexer": "ipython3",
   "version": "3.7.3"
  }
 },
 "nbformat": 4,
 "nbformat_minor": 2
}
