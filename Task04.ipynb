{
 "cells": [
  {
   "cell_type": "markdown",
   "metadata": {},
   "source": [
    "## 队列"
   ]
  },
  {
   "cell_type": "markdown",
   "metadata": {},
   "source": [
    "### 队列的定义"
   ]
  },
  {
   "cell_type": "markdown",
   "metadata": {},
   "source": [
    "插入（入队）在一端（队尾）进行而删除（出队）在另一端（队首）进行的线性表。即先进先出（First In First Out）的线性表。\n",
    "\n",
    "顺序表和链表两类"
   ]
  },
  {
   "cell_type": "markdown",
   "metadata": {},
   "source": [
    "### 队列的操作"
   ]
  },
  {
   "cell_type": "markdown",
   "metadata": {},
   "source": [
    "与栈的功能相似\n",
    "\n",
    "入队操作：将数据元素插入队尾。\n",
    "\n",
    "出队操作：移除队首的数据元素。\n",
    "\n",
    "是否为空：判断队中是否包含数据元素。\n",
    "\n",
    "得到队长：获取队中实际包含数据元素的个数。\n",
    "\n",
    "清空操作：移除队中的所有数据元素。\n",
    "\n",
    "获取队首元素。"
   ]
  },
  {
   "cell_type": "markdown",
   "metadata": {},
   "source": [
    "### 队列的储存"
   ]
  },
  {
   "cell_type": "markdown",
   "metadata": {},
   "source": [
    "1.顺序队列\n",
    "\n",
    "顺序队列：（Sequence Queue）：利用顺序表实现的队列。\n",
    "\n",
    "2.循环队列\n",
    "\n",
    "循环队列（Circular Sequence Queue）：利用数组采用循环的方式实现的队列。\n",
    "\n",
    "3.链式存储\n",
    "\n",
    "链队：利用单链表实现的队列"
   ]
  },
  {
   "cell_type": "markdown",
   "metadata": {},
   "source": [
    "### 练习"
   ]
  },
  {
   "cell_type": "markdown",
   "metadata": {},
   "source": [
    "1. 模拟银行服务完成程序代码。\n",
    "\n",
    "目前，在以银行营业大厅为代表的窗口行业中大量使用排队（叫号）系统，该系统完全模拟了人群排队全过程，通过取票进队、排队等待、叫号服务等功能，代替了人们站队的辛苦。\n",
    "\n",
    "排队叫号软件的具体操作流程为：\n",
    "\n",
    "顾客取服务序号\n",
    "当顾客抵达服务大厅时，前往放置在入口处旁的取号机，并按一下其上的相应服务按钮，取号机会自动打印出一张服务单。##单上显示服务号及该服务号前面正在等待服务的人数。##\n",
    "\n",
    "服务员工呼叫顾客\n",
    "服务员工只需按一下其柜台上呼叫器的相应按钮，则顾客的服务号就会按顺序的显示在显示屏上，并发出“叮咚”和相关语音信息，提示顾客前往该窗口办事。当一位顾客办事完毕后，柜台服务员工只需按呼叫器相应键，即可自动呼叫下一位顾客。\n",
    "\n",
    "编写程序模拟上面的工作过程，主要要求如下：\n",
    "\n",
    "程序运行后，当看到“请点击触摸屏获取号码：”的提示时，只要按回车键，即可显示“您的号码是：XXX，您前面有YYY位”的提示，其中XXX是所获得的服务号码，YYY是在XXX之前来到的正在等待服务的人数。\n",
    "用多线程技术模拟服务窗口（可模拟多个），具有服务员呼叫顾客的行为，假设每个顾客服务的时间是10000ms，时间到后，显示“请XXX号到ZZZ号窗口！”的提示。其中ZZZ是即将为客户服务的窗口号。\n"
   ]
  },
  {
   "cell_type": "code",
   "execution_count": null,
   "metadata": {},
   "outputs": [
    {
     "name": "stdout",
     "output_type": "stream",
     "text": [
      "请点击屏幕获取号码：\n",
      "您的号码是1，前面还有0位\n",
      "请点击屏幕获取号码：\n",
      "您的号码是2，前面还有1位\n",
      "请点击屏幕获取号码：\n",
      "您的号码是3，前面还有2位\n",
      "请1号到1号窗口\n",
      "请2号到2号窗口\n",
      "请3号到3号窗口\n",
      "请点击屏幕获取号码：\n",
      "您的号码是4，前面还有0位\n",
      "请点击屏幕获取号码：\n",
      "您的号码是5，前面还有0位\n"
     ]
    },
    {
     "name": "stderr",
     "output_type": "stream",
     "text": [
      "Exception in thread 1:\n",
      "Traceback (most recent call last):\n",
      "  File \"D:\\Anaconda3\\lib\\threading.py\", line 917, in _bootstrap_inner\n",
      "    self.run()\n",
      "  File \"D:\\Anaconda3\\lib\\threading.py\", line 865, in run\n",
      "    self._target(*self._args, **self._kwargs)\n",
      "  File \"<ipython-input-1-341934b1b95f>\", line 76, in service\n",
      "    self.lock.release()\n",
      "RuntimeError: release unlocked lock\n",
      "\n",
      "Exception in thread 3:\n",
      "Traceback (most recent call last):\n",
      "  File \"D:\\Anaconda3\\lib\\threading.py\", line 917, in _bootstrap_inner\n",
      "    self.run()\n",
      "  File \"D:\\Anaconda3\\lib\\threading.py\", line 865, in run\n",
      "    self._target(*self._args, **self._kwargs)\n",
      "  File \"<ipython-input-1-341934b1b95f>\", line 76, in service\n",
      "    self.lock.release()\n",
      "RuntimeError: release unlocked lock\n",
      "\n",
      "Exception in thread 2:\n",
      "Traceback (most recent call last):\n",
      "  File \"D:\\Anaconda3\\lib\\threading.py\", line 917, in _bootstrap_inner\n",
      "    self.run()\n",
      "  File \"D:\\Anaconda3\\lib\\threading.py\", line 865, in run\n",
      "    self._target(*self._args, **self._kwargs)\n",
      "  File \"<ipython-input-1-341934b1b95f>\", line 76, in service\n",
      "    self.lock.release()\n",
      "RuntimeError: release unlocked lock\n",
      "\n"
     ]
    }
   ],
   "source": [
    "import time\n",
    "import threading\n",
    "\n",
    "class ListNode():\n",
    "    def __init__(self, x):\n",
    "        self.val = x\n",
    "        self.next = None\n",
    "        \n",
    "class LinkQueue(object):\n",
    "    def __init__(self):\n",
    "        self.head = None\n",
    "        self.tail = None\n",
    "        \n",
    "    def IsEmpty(self):\n",
    "        if self.head == None:\n",
    "            return True\n",
    "        else:\n",
    "            return False\n",
    "        \n",
    "    def EnQueue(self, input):\n",
    "        newnode = ListNode(input)\n",
    "        if self.tail == None:\n",
    "            self.head = newnode\n",
    "        else:\n",
    "            self.tail.next = newnode\n",
    "        self.tail = newnode\n",
    "        \n",
    "    def DeQueue(self):\n",
    "        if self.head == None:\n",
    "            return None\n",
    "        else:\n",
    "            node = self.head\n",
    "            self.head = self.head.next\n",
    "            return node.val\n",
    "        \n",
    "class BankQueue(LinkQueue):\n",
    "    def __init__(self):\n",
    "        LinkQueue.__init__(self)\n",
    "        self.callnumber = 0\n",
    "        \n",
    "    def getcallnumber(self):\n",
    "        if self.IsEmpty() and self.callnumber == 0:\n",
    "            self.callnumber = 1\n",
    "        else:\n",
    "            self.callnumber += 1\n",
    "        return self.callnumber\n",
    "    \n",
    "    def getlength(self):# 前面还有多少个\n",
    "        if self.IsEmpty():\n",
    "            return 0\n",
    "        else:\n",
    "            cur = self.head\n",
    "            count = 1\n",
    "            while cur != self.tail:\n",
    "                cur = cur.next\n",
    "                count += 1\n",
    "            return count\n",
    "        \n",
    "class ServiceWindow(threading.Thread):\n",
    "    def __init__(self):\n",
    "        threading.Thread.__init__(self)\n",
    "        self.bankqueue = None\n",
    "        self.lock = threading.Lock()\n",
    "        \n",
    "    def service(self):\n",
    "        while True:\n",
    "            self.lock.acquire()\n",
    "            time.sleep(5)\n",
    "            try:\n",
    "                if not self.bankqueue.IsEmpty():\n",
    "                    print(\"请{}号到{}号窗口\".format(self.bankqueue.head.val, threading.current_thread().name))\n",
    "                    self.bankqueue.DeQueue()\n",
    "                else:\n",
    "                    self.lock.release()\n",
    "            finally:\n",
    "                self.lock.release()\n",
    "                    \n",
    "if __name__ == '__main__':\n",
    "    bankqueue = BankQueue()\n",
    "    windowscount = 3\n",
    "    servicewindows = [None]*windowscount\n",
    "    threadlist = [None]*windowscount\n",
    "    for i in range(windowscount):\n",
    "        servicewindows[i] = ServiceWindow()\n",
    "        servicewindows[i].bankqueue = bankqueue\n",
    "        threadlist[i] = threading.Thread(name=(i+1), target=servicewindows[i].service, args=())\n",
    "        threadlist[i].start()\n",
    "    while True:\n",
    "        input(\"请点击屏幕获取号码：\")\n",
    "        if bankqueue != None:\n",
    "            callnumber = bankqueue.getcallnumber()\n",
    "            print(\"您的号码是{}，前面还有{}位\".format(callnumber, bankqueue.getlength()))\n",
    "            bankqueue.EnQueue(callnumber)\n",
    "        else:\n",
    "            print(\"业务繁忙待会再来\")\n",
    "        \n",
    "        "
   ]
  },
  {
   "cell_type": "code",
   "execution_count": null,
   "metadata": {},
   "outputs": [],
   "source": []
  }
 ],
 "metadata": {
  "kernelspec": {
   "display_name": "Python 3",
   "language": "python",
   "name": "python3"
  },
  "language_info": {
   "codemirror_mode": {
    "name": "ipython",
    "version": 3
   },
   "file_extension": ".py",
   "mimetype": "text/x-python",
   "name": "python",
   "nbconvert_exporter": "python",
   "pygments_lexer": "ipython3",
   "version": "3.7.3"
  }
 },
 "nbformat": 4,
 "nbformat_minor": 2
}
